{
 "cells": [
  {
   "cell_type": "code",
   "execution_count": null,
   "id": "1e37d089-d414-4848-b4d3-ff76071a65a0",
   "metadata": {},
   "outputs": [],
   "source": []
  }
 ],
 "metadata": {
  "kernelspec": {
   "display_name": "",
   "name": ""
  },
  "language_info": {
   "name": ""
  }
 },
 "nbformat": 4,
 "nbformat_minor": 5
}
